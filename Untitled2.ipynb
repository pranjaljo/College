{
 "cells": [
  {
   "cell_type": "code",
   "execution_count": 4,
   "metadata": {},
   "outputs": [
    {
     "ename": "NameError",
     "evalue": "name 'mycorpus' is not defined",
     "output_type": "error",
     "traceback": [
      "\u001b[1;31m---------------------------------------------------------------------------\u001b[0m",
      "\u001b[1;31mNameError\u001b[0m                                 Traceback (most recent call last)",
      "\u001b[1;32m<ipython-input-4-d3625567c15f>\u001b[0m in \u001b[0;36m<module>\u001b[1;34m\u001b[0m\n\u001b[0;32m      1\u001b[0m \u001b[1;31m#data=\"Anniversary editions have the feel of a graduation: a year of studious slogging (of which, truth be told, my team and I do very little) and madcap fun (which we only wish we could indulge in more) rounded off with a sense of achievement and a lingering anxiety. There's pride that National Geographic Traveller India has lived to see another day, and in today's precarious media landscape, that should account for something. Then the gnawing question: did we get it right? When it comes to travel, is there a right or a wrong way to do it? Early this month, The New York Times unearthed Albert Einsteins entries of his journeys around Asia and discovered\";\u001b[0m\u001b[1;33m\u001b[0m\u001b[1;33m\u001b[0m\u001b[1;33m\u001b[0m\u001b[0m\n\u001b[1;32m----> 2\u001b[1;33m \u001b[0mmycorpus\u001b[0m \u001b[1;33m<\u001b[0m\u001b[1;33m-\u001b[0m \u001b[0mcorpus\u001b[0m\u001b[1;33m(\u001b[0m\u001b[0mdata\u001b[0m\u001b[1;33m,\u001b[0m \u001b[0mtext_field\u001b[0m \u001b[1;33m=\u001b[0m \u001b[1;34m\"text\"\u001b[0m\u001b[1;33m)\u001b[0m\u001b[1;33m\u001b[0m\u001b[1;33m\u001b[0m\u001b[0m\n\u001b[0m",
      "\u001b[1;31mNameError\u001b[0m: name 'mycorpus' is not defined"
     ]
    }
   ],
   "source": [
    "#data=\"Anniversary editions have the feel of a graduation: a year of studious slogging (of which, truth be told, my team and I do very little) and madcap fun (which we only wish we could indulge in more) rounded off with a sense of achievement and a lingering anxiety. There's pride that National Geographic Traveller India has lived to see another day, and in today's precarious media landscape, that should account for something. Then the gnawing question: did we get it right? When it comes to travel, is there a right or a wrong way to do it? Early this month, The New York Times unearthed Albert Einsteins entries of his journeys around Asia and discovered\";\n",
    "mycorpus <- corpus(data, text_field = \"text\")"
   ]
  },
  {
   "cell_type": "code",
   "execution_count": null,
   "metadata": {},
   "outputs": [],
   "source": []
  }
 ],
 "metadata": {
  "kernelspec": {
   "display_name": "Python 3",
   "language": "python",
   "name": "python3"
  },
  "language_info": {
   "codemirror_mode": {
    "name": "ipython",
    "version": 3
   },
   "file_extension": ".py",
   "mimetype": "text/x-python",
   "name": "python",
   "nbconvert_exporter": "python",
   "pygments_lexer": "ipython3",
   "version": "3.7.1"
  }
 },
 "nbformat": 4,
 "nbformat_minor": 2
}
